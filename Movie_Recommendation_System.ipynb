{
  "cells": [
    {
      "cell_type": "markdown",
      "metadata": {
        "id": "view-in-github",
        "colab_type": "text"
      },
      "source": [
        "<a href=\"https://colab.research.google.com/github/sheershsaxena/Movie-Recommendation-System/blob/main/Movie_Recommendation_System.ipynb\" target=\"_parent\"><img src=\"https://colab.research.google.com/assets/colab-badge.svg\" alt=\"Open In Colab\"/></a>"
      ]
    },
    {
      "cell_type": "markdown",
      "id": "75150d4a",
      "metadata": {
        "id": "75150d4a"
      },
      "source": [
        "# Movie Recommendation System"
      ]
    },
    {
      "cell_type": "code",
      "execution_count": null,
      "id": "969edd0b",
      "metadata": {
        "id": "969edd0b"
      },
      "outputs": [],
      "source": [
        "import numpy as np\n",
        "import pandas as pd\n",
        "\n",
        "import warnings\n",
        "\n",
        "warnings.filterwarnings(\"ignore\")"
      ]
    },
    {
      "cell_type": "code",
      "execution_count": null,
      "id": "c23b6764",
      "metadata": {
        "id": "c23b6764"
      },
      "outputs": [],
      "source": [
        "movies = pd.read_csv('/Users/dacenish/Documents/Backup/danish backup/Movie Recm Sys./tmdb_5000_movies.csv')"
      ]
    },
    {
      "cell_type": "code",
      "execution_count": null,
      "id": "ec383738",
      "metadata": {
        "id": "ec383738"
      },
      "outputs": [],
      "source": [
        "credits = pd.read_csv('/Users/dacenish/Documents/Backup/danish backup/Movie Recm Sys./tmdb_5000_credits.csv')"
      ]
    },
    {
      "cell_type": "code",
      "execution_count": null,
      "id": "92a248fc",
      "metadata": {
        "id": "92a248fc",
        "outputId": "9d6d5d2d-d9eb-44dd-af61-010a41b68a9b"
      },
      "outputs": [
        {
          "data": {
            "text/html": [
              "<div>\n",
              "<style scoped>\n",
              "    .dataframe tbody tr th:only-of-type {\n",
              "        vertical-align: middle;\n",
              "    }\n",
              "\n",
              "    .dataframe tbody tr th {\n",
              "        vertical-align: top;\n",
              "    }\n",
              "\n",
              "    .dataframe thead th {\n",
              "        text-align: right;\n",
              "    }\n",
              "</style>\n",
              "<table border=\"1\" class=\"dataframe\">\n",
              "  <thead>\n",
              "    <tr style=\"text-align: right;\">\n",
              "      <th></th>\n",
              "      <th>budget</th>\n",
              "      <th>genres</th>\n",
              "      <th>homepage</th>\n",
              "      <th>id</th>\n",
              "      <th>keywords</th>\n",
              "      <th>original_language</th>\n",
              "      <th>original_title</th>\n",
              "      <th>overview</th>\n",
              "      <th>popularity</th>\n",
              "      <th>production_companies</th>\n",
              "      <th>production_countries</th>\n",
              "      <th>release_date</th>\n",
              "      <th>revenue</th>\n",
              "      <th>runtime</th>\n",
              "      <th>spoken_languages</th>\n",
              "      <th>status</th>\n",
              "      <th>tagline</th>\n",
              "      <th>title</th>\n",
              "      <th>vote_average</th>\n",
              "      <th>vote_count</th>\n",
              "    </tr>\n",
              "  </thead>\n",
              "  <tbody>\n",
              "    <tr>\n",
              "      <th>0</th>\n",
              "      <td>237000000</td>\n",
              "      <td>[{\"id\": 28, \"name\": \"Action\"}, {\"id\": 12, \"nam...</td>\n",
              "      <td>http://www.avatarmovie.com/</td>\n",
              "      <td>19995</td>\n",
              "      <td>[{\"id\": 1463, \"name\": \"culture clash\"}, {\"id\":...</td>\n",
              "      <td>en</td>\n",
              "      <td>Avatar</td>\n",
              "      <td>In the 22nd century, a paraplegic Marine is di...</td>\n",
              "      <td>150.437577</td>\n",
              "      <td>[{\"name\": \"Ingenious Film Partners\", \"id\": 289...</td>\n",
              "      <td>[{\"iso_3166_1\": \"US\", \"name\": \"United States o...</td>\n",
              "      <td>2009-12-10</td>\n",
              "      <td>2787965087</td>\n",
              "      <td>162.0</td>\n",
              "      <td>[{\"iso_639_1\": \"en\", \"name\": \"English\"}, {\"iso...</td>\n",
              "      <td>Released</td>\n",
              "      <td>Enter the World of Pandora.</td>\n",
              "      <td>Avatar</td>\n",
              "      <td>7.2</td>\n",
              "      <td>11800</td>\n",
              "    </tr>\n",
              "    <tr>\n",
              "      <th>1</th>\n",
              "      <td>300000000</td>\n",
              "      <td>[{\"id\": 12, \"name\": \"Adventure\"}, {\"id\": 14, \"...</td>\n",
              "      <td>http://disney.go.com/disneypictures/pirates/</td>\n",
              "      <td>285</td>\n",
              "      <td>[{\"id\": 270, \"name\": \"ocean\"}, {\"id\": 726, \"na...</td>\n",
              "      <td>en</td>\n",
              "      <td>Pirates of the Caribbean: At World's End</td>\n",
              "      <td>Captain Barbossa, long believed to be dead, ha...</td>\n",
              "      <td>139.082615</td>\n",
              "      <td>[{\"name\": \"Walt Disney Pictures\", \"id\": 2}, {\"...</td>\n",
              "      <td>[{\"iso_3166_1\": \"US\", \"name\": \"United States o...</td>\n",
              "      <td>2007-05-19</td>\n",
              "      <td>961000000</td>\n",
              "      <td>169.0</td>\n",
              "      <td>[{\"iso_639_1\": \"en\", \"name\": \"English\"}]</td>\n",
              "      <td>Released</td>\n",
              "      <td>At the end of the world, the adventure begins.</td>\n",
              "      <td>Pirates of the Caribbean: At World's End</td>\n",
              "      <td>6.9</td>\n",
              "      <td>4500</td>\n",
              "    </tr>\n",
              "    <tr>\n",
              "      <th>2</th>\n",
              "      <td>245000000</td>\n",
              "      <td>[{\"id\": 28, \"name\": \"Action\"}, {\"id\": 12, \"nam...</td>\n",
              "      <td>http://www.sonypictures.com/movies/spectre/</td>\n",
              "      <td>206647</td>\n",
              "      <td>[{\"id\": 470, \"name\": \"spy\"}, {\"id\": 818, \"name...</td>\n",
              "      <td>en</td>\n",
              "      <td>Spectre</td>\n",
              "      <td>A cryptic message from Bond’s past sends him o...</td>\n",
              "      <td>107.376788</td>\n",
              "      <td>[{\"name\": \"Columbia Pictures\", \"id\": 5}, {\"nam...</td>\n",
              "      <td>[{\"iso_3166_1\": \"GB\", \"name\": \"United Kingdom\"...</td>\n",
              "      <td>2015-10-26</td>\n",
              "      <td>880674609</td>\n",
              "      <td>148.0</td>\n",
              "      <td>[{\"iso_639_1\": \"fr\", \"name\": \"Fran\\u00e7ais\"},...</td>\n",
              "      <td>Released</td>\n",
              "      <td>A Plan No One Escapes</td>\n",
              "      <td>Spectre</td>\n",
              "      <td>6.3</td>\n",
              "      <td>4466</td>\n",
              "    </tr>\n",
              "    <tr>\n",
              "      <th>3</th>\n",
              "      <td>250000000</td>\n",
              "      <td>[{\"id\": 28, \"name\": \"Action\"}, {\"id\": 80, \"nam...</td>\n",
              "      <td>http://www.thedarkknightrises.com/</td>\n",
              "      <td>49026</td>\n",
              "      <td>[{\"id\": 849, \"name\": \"dc comics\"}, {\"id\": 853,...</td>\n",
              "      <td>en</td>\n",
              "      <td>The Dark Knight Rises</td>\n",
              "      <td>Following the death of District Attorney Harve...</td>\n",
              "      <td>112.312950</td>\n",
              "      <td>[{\"name\": \"Legendary Pictures\", \"id\": 923}, {\"...</td>\n",
              "      <td>[{\"iso_3166_1\": \"US\", \"name\": \"United States o...</td>\n",
              "      <td>2012-07-16</td>\n",
              "      <td>1084939099</td>\n",
              "      <td>165.0</td>\n",
              "      <td>[{\"iso_639_1\": \"en\", \"name\": \"English\"}]</td>\n",
              "      <td>Released</td>\n",
              "      <td>The Legend Ends</td>\n",
              "      <td>The Dark Knight Rises</td>\n",
              "      <td>7.6</td>\n",
              "      <td>9106</td>\n",
              "    </tr>\n",
              "    <tr>\n",
              "      <th>4</th>\n",
              "      <td>260000000</td>\n",
              "      <td>[{\"id\": 28, \"name\": \"Action\"}, {\"id\": 12, \"nam...</td>\n",
              "      <td>http://movies.disney.com/john-carter</td>\n",
              "      <td>49529</td>\n",
              "      <td>[{\"id\": 818, \"name\": \"based on novel\"}, {\"id\":...</td>\n",
              "      <td>en</td>\n",
              "      <td>John Carter</td>\n",
              "      <td>John Carter is a war-weary, former military ca...</td>\n",
              "      <td>43.926995</td>\n",
              "      <td>[{\"name\": \"Walt Disney Pictures\", \"id\": 2}]</td>\n",
              "      <td>[{\"iso_3166_1\": \"US\", \"name\": \"United States o...</td>\n",
              "      <td>2012-03-07</td>\n",
              "      <td>284139100</td>\n",
              "      <td>132.0</td>\n",
              "      <td>[{\"iso_639_1\": \"en\", \"name\": \"English\"}]</td>\n",
              "      <td>Released</td>\n",
              "      <td>Lost in our world, found in another.</td>\n",
              "      <td>John Carter</td>\n",
              "      <td>6.1</td>\n",
              "      <td>2124</td>\n",
              "    </tr>\n",
              "  </tbody>\n",
              "</table>\n",
              "</div>"
            ],
            "text/plain": [
              "      budget                                             genres  \\\n",
              "0  237000000  [{\"id\": 28, \"name\": \"Action\"}, {\"id\": 12, \"nam...   \n",
              "1  300000000  [{\"id\": 12, \"name\": \"Adventure\"}, {\"id\": 14, \"...   \n",
              "2  245000000  [{\"id\": 28, \"name\": \"Action\"}, {\"id\": 12, \"nam...   \n",
              "3  250000000  [{\"id\": 28, \"name\": \"Action\"}, {\"id\": 80, \"nam...   \n",
              "4  260000000  [{\"id\": 28, \"name\": \"Action\"}, {\"id\": 12, \"nam...   \n",
              "\n",
              "                                       homepage      id  \\\n",
              "0                   http://www.avatarmovie.com/   19995   \n",
              "1  http://disney.go.com/disneypictures/pirates/     285   \n",
              "2   http://www.sonypictures.com/movies/spectre/  206647   \n",
              "3            http://www.thedarkknightrises.com/   49026   \n",
              "4          http://movies.disney.com/john-carter   49529   \n",
              "\n",
              "                                            keywords original_language  \\\n",
              "0  [{\"id\": 1463, \"name\": \"culture clash\"}, {\"id\":...                en   \n",
              "1  [{\"id\": 270, \"name\": \"ocean\"}, {\"id\": 726, \"na...                en   \n",
              "2  [{\"id\": 470, \"name\": \"spy\"}, {\"id\": 818, \"name...                en   \n",
              "3  [{\"id\": 849, \"name\": \"dc comics\"}, {\"id\": 853,...                en   \n",
              "4  [{\"id\": 818, \"name\": \"based on novel\"}, {\"id\":...                en   \n",
              "\n",
              "                             original_title  \\\n",
              "0                                    Avatar   \n",
              "1  Pirates of the Caribbean: At World's End   \n",
              "2                                   Spectre   \n",
              "3                     The Dark Knight Rises   \n",
              "4                               John Carter   \n",
              "\n",
              "                                            overview  popularity  \\\n",
              "0  In the 22nd century, a paraplegic Marine is di...  150.437577   \n",
              "1  Captain Barbossa, long believed to be dead, ha...  139.082615   \n",
              "2  A cryptic message from Bond’s past sends him o...  107.376788   \n",
              "3  Following the death of District Attorney Harve...  112.312950   \n",
              "4  John Carter is a war-weary, former military ca...   43.926995   \n",
              "\n",
              "                                production_companies  \\\n",
              "0  [{\"name\": \"Ingenious Film Partners\", \"id\": 289...   \n",
              "1  [{\"name\": \"Walt Disney Pictures\", \"id\": 2}, {\"...   \n",
              "2  [{\"name\": \"Columbia Pictures\", \"id\": 5}, {\"nam...   \n",
              "3  [{\"name\": \"Legendary Pictures\", \"id\": 923}, {\"...   \n",
              "4        [{\"name\": \"Walt Disney Pictures\", \"id\": 2}]   \n",
              "\n",
              "                                production_countries release_date     revenue  \\\n",
              "0  [{\"iso_3166_1\": \"US\", \"name\": \"United States o...   2009-12-10  2787965087   \n",
              "1  [{\"iso_3166_1\": \"US\", \"name\": \"United States o...   2007-05-19   961000000   \n",
              "2  [{\"iso_3166_1\": \"GB\", \"name\": \"United Kingdom\"...   2015-10-26   880674609   \n",
              "3  [{\"iso_3166_1\": \"US\", \"name\": \"United States o...   2012-07-16  1084939099   \n",
              "4  [{\"iso_3166_1\": \"US\", \"name\": \"United States o...   2012-03-07   284139100   \n",
              "\n",
              "   runtime                                   spoken_languages    status  \\\n",
              "0    162.0  [{\"iso_639_1\": \"en\", \"name\": \"English\"}, {\"iso...  Released   \n",
              "1    169.0           [{\"iso_639_1\": \"en\", \"name\": \"English\"}]  Released   \n",
              "2    148.0  [{\"iso_639_1\": \"fr\", \"name\": \"Fran\\u00e7ais\"},...  Released   \n",
              "3    165.0           [{\"iso_639_1\": \"en\", \"name\": \"English\"}]  Released   \n",
              "4    132.0           [{\"iso_639_1\": \"en\", \"name\": \"English\"}]  Released   \n",
              "\n",
              "                                          tagline  \\\n",
              "0                     Enter the World of Pandora.   \n",
              "1  At the end of the world, the adventure begins.   \n",
              "2                           A Plan No One Escapes   \n",
              "3                                 The Legend Ends   \n",
              "4            Lost in our world, found in another.   \n",
              "\n",
              "                                      title  vote_average  vote_count  \n",
              "0                                    Avatar           7.2       11800  \n",
              "1  Pirates of the Caribbean: At World's End           6.9        4500  \n",
              "2                                   Spectre           6.3        4466  \n",
              "3                     The Dark Knight Rises           7.6        9106  \n",
              "4                               John Carter           6.1        2124  "
            ]
          },
          "execution_count": 4,
          "metadata": {},
          "output_type": "execute_result"
        }
      ],
      "source": [
        "movies.head(5)"
      ]
    },
    {
      "cell_type": "code",
      "execution_count": null,
      "id": "bec6bef9",
      "metadata": {
        "id": "bec6bef9",
        "outputId": "3b51622d-6af0-4f43-bb9e-8badcc92ee40"
      },
      "outputs": [
        {
          "data": {
            "text/html": [
              "<div>\n",
              "<style scoped>\n",
              "    .dataframe tbody tr th:only-of-type {\n",
              "        vertical-align: middle;\n",
              "    }\n",
              "\n",
              "    .dataframe tbody tr th {\n",
              "        vertical-align: top;\n",
              "    }\n",
              "\n",
              "    .dataframe thead th {\n",
              "        text-align: right;\n",
              "    }\n",
              "</style>\n",
              "<table border=\"1\" class=\"dataframe\">\n",
              "  <thead>\n",
              "    <tr style=\"text-align: right;\">\n",
              "      <th></th>\n",
              "      <th>movie_id</th>\n",
              "      <th>title</th>\n",
              "      <th>cast</th>\n",
              "      <th>crew</th>\n",
              "    </tr>\n",
              "  </thead>\n",
              "  <tbody>\n",
              "    <tr>\n",
              "      <th>0</th>\n",
              "      <td>19995</td>\n",
              "      <td>Avatar</td>\n",
              "      <td>[{\"cast_id\": 242, \"character\": \"Jake Sully\", \"...</td>\n",
              "      <td>[{\"credit_id\": \"52fe48009251416c750aca23\", \"de...</td>\n",
              "    </tr>\n",
              "    <tr>\n",
              "      <th>1</th>\n",
              "      <td>285</td>\n",
              "      <td>Pirates of the Caribbean: At World's End</td>\n",
              "      <td>[{\"cast_id\": 4, \"character\": \"Captain Jack Spa...</td>\n",
              "      <td>[{\"credit_id\": \"52fe4232c3a36847f800b579\", \"de...</td>\n",
              "    </tr>\n",
              "    <tr>\n",
              "      <th>2</th>\n",
              "      <td>206647</td>\n",
              "      <td>Spectre</td>\n",
              "      <td>[{\"cast_id\": 1, \"character\": \"James Bond\", \"cr...</td>\n",
              "      <td>[{\"credit_id\": \"54805967c3a36829b5002c41\", \"de...</td>\n",
              "    </tr>\n",
              "    <tr>\n",
              "      <th>3</th>\n",
              "      <td>49026</td>\n",
              "      <td>The Dark Knight Rises</td>\n",
              "      <td>[{\"cast_id\": 2, \"character\": \"Bruce Wayne / Ba...</td>\n",
              "      <td>[{\"credit_id\": \"52fe4781c3a36847f81398c3\", \"de...</td>\n",
              "    </tr>\n",
              "    <tr>\n",
              "      <th>4</th>\n",
              "      <td>49529</td>\n",
              "      <td>John Carter</td>\n",
              "      <td>[{\"cast_id\": 5, \"character\": \"John Carter\", \"c...</td>\n",
              "      <td>[{\"credit_id\": \"52fe479ac3a36847f813eaa3\", \"de...</td>\n",
              "    </tr>\n",
              "  </tbody>\n",
              "</table>\n",
              "</div>"
            ],
            "text/plain": [
              "   movie_id                                     title  \\\n",
              "0     19995                                    Avatar   \n",
              "1       285  Pirates of the Caribbean: At World's End   \n",
              "2    206647                                   Spectre   \n",
              "3     49026                     The Dark Knight Rises   \n",
              "4     49529                               John Carter   \n",
              "\n",
              "                                                cast  \\\n",
              "0  [{\"cast_id\": 242, \"character\": \"Jake Sully\", \"...   \n",
              "1  [{\"cast_id\": 4, \"character\": \"Captain Jack Spa...   \n",
              "2  [{\"cast_id\": 1, \"character\": \"James Bond\", \"cr...   \n",
              "3  [{\"cast_id\": 2, \"character\": \"Bruce Wayne / Ba...   \n",
              "4  [{\"cast_id\": 5, \"character\": \"John Carter\", \"c...   \n",
              "\n",
              "                                                crew  \n",
              "0  [{\"credit_id\": \"52fe48009251416c750aca23\", \"de...  \n",
              "1  [{\"credit_id\": \"52fe4232c3a36847f800b579\", \"de...  \n",
              "2  [{\"credit_id\": \"54805967c3a36829b5002c41\", \"de...  \n",
              "3  [{\"credit_id\": \"52fe4781c3a36847f81398c3\", \"de...  \n",
              "4  [{\"credit_id\": \"52fe479ac3a36847f813eaa3\", \"de...  "
            ]
          },
          "execution_count": 5,
          "metadata": {},
          "output_type": "execute_result"
        }
      ],
      "source": [
        "credits.head(5)"
      ]
    },
    {
      "cell_type": "code",
      "execution_count": null,
      "id": "11c7cdd6",
      "metadata": {
        "id": "11c7cdd6"
      },
      "outputs": [],
      "source": [
        "movies = movies.merge(credits, on='title')"
      ]
    },
    {
      "cell_type": "code",
      "execution_count": null,
      "id": "26a3a446",
      "metadata": {
        "id": "26a3a446",
        "outputId": "f53d6bb7-db30-4547-8145-085c15d75343"
      },
      "outputs": [
        {
          "data": {
            "text/html": [
              "<div>\n",
              "<style scoped>\n",
              "    .dataframe tbody tr th:only-of-type {\n",
              "        vertical-align: middle;\n",
              "    }\n",
              "\n",
              "    .dataframe tbody tr th {\n",
              "        vertical-align: top;\n",
              "    }\n",
              "\n",
              "    .dataframe thead th {\n",
              "        text-align: right;\n",
              "    }\n",
              "</style>\n",
              "<table border=\"1\" class=\"dataframe\">\n",
              "  <thead>\n",
              "    <tr style=\"text-align: right;\">\n",
              "      <th></th>\n",
              "      <th>budget</th>\n",
              "      <th>genres</th>\n",
              "      <th>homepage</th>\n",
              "      <th>id</th>\n",
              "      <th>keywords</th>\n",
              "      <th>original_language</th>\n",
              "      <th>original_title</th>\n",
              "      <th>overview</th>\n",
              "      <th>popularity</th>\n",
              "      <th>production_companies</th>\n",
              "      <th>...</th>\n",
              "      <th>runtime</th>\n",
              "      <th>spoken_languages</th>\n",
              "      <th>status</th>\n",
              "      <th>tagline</th>\n",
              "      <th>title</th>\n",
              "      <th>vote_average</th>\n",
              "      <th>vote_count</th>\n",
              "      <th>movie_id</th>\n",
              "      <th>cast</th>\n",
              "      <th>crew</th>\n",
              "    </tr>\n",
              "  </thead>\n",
              "  <tbody>\n",
              "    <tr>\n",
              "      <th>0</th>\n",
              "      <td>237000000</td>\n",
              "      <td>[{\"id\": 28, \"name\": \"Action\"}, {\"id\": 12, \"nam...</td>\n",
              "      <td>http://www.avatarmovie.com/</td>\n",
              "      <td>19995</td>\n",
              "      <td>[{\"id\": 1463, \"name\": \"culture clash\"}, {\"id\":...</td>\n",
              "      <td>en</td>\n",
              "      <td>Avatar</td>\n",
              "      <td>In the 22nd century, a paraplegic Marine is di...</td>\n",
              "      <td>150.437577</td>\n",
              "      <td>[{\"name\": \"Ingenious Film Partners\", \"id\": 289...</td>\n",
              "      <td>...</td>\n",
              "      <td>162.0</td>\n",
              "      <td>[{\"iso_639_1\": \"en\", \"name\": \"English\"}, {\"iso...</td>\n",
              "      <td>Released</td>\n",
              "      <td>Enter the World of Pandora.</td>\n",
              "      <td>Avatar</td>\n",
              "      <td>7.2</td>\n",
              "      <td>11800</td>\n",
              "      <td>19995</td>\n",
              "      <td>[{\"cast_id\": 242, \"character\": \"Jake Sully\", \"...</td>\n",
              "      <td>[{\"credit_id\": \"52fe48009251416c750aca23\", \"de...</td>\n",
              "    </tr>\n",
              "  </tbody>\n",
              "</table>\n",
              "<p>1 rows × 23 columns</p>\n",
              "</div>"
            ],
            "text/plain": [
              "      budget                                             genres  \\\n",
              "0  237000000  [{\"id\": 28, \"name\": \"Action\"}, {\"id\": 12, \"nam...   \n",
              "\n",
              "                      homepage     id  \\\n",
              "0  http://www.avatarmovie.com/  19995   \n",
              "\n",
              "                                            keywords original_language  \\\n",
              "0  [{\"id\": 1463, \"name\": \"culture clash\"}, {\"id\":...                en   \n",
              "\n",
              "  original_title                                           overview  \\\n",
              "0         Avatar  In the 22nd century, a paraplegic Marine is di...   \n",
              "\n",
              "   popularity                               production_companies  ... runtime  \\\n",
              "0  150.437577  [{\"name\": \"Ingenious Film Partners\", \"id\": 289...  ...   162.0   \n",
              "\n",
              "                                    spoken_languages    status  \\\n",
              "0  [{\"iso_639_1\": \"en\", \"name\": \"English\"}, {\"iso...  Released   \n",
              "\n",
              "                       tagline   title vote_average vote_count movie_id  \\\n",
              "0  Enter the World of Pandora.  Avatar          7.2      11800    19995   \n",
              "\n",
              "                                                cast  \\\n",
              "0  [{\"cast_id\": 242, \"character\": \"Jake Sully\", \"...   \n",
              "\n",
              "                                                crew  \n",
              "0  [{\"credit_id\": \"52fe48009251416c750aca23\", \"de...  \n",
              "\n",
              "[1 rows x 23 columns]"
            ]
          },
          "execution_count": 7,
          "metadata": {},
          "output_type": "execute_result"
        }
      ],
      "source": [
        "movies.head(1)"
      ]
    },
    {
      "cell_type": "code",
      "execution_count": null,
      "id": "6eed3d69",
      "metadata": {
        "id": "6eed3d69"
      },
      "outputs": [],
      "source": [
        "movies = movies[['movie_id','title','overview','genres','keywords','cast','crew']]"
      ]
    },
    {
      "cell_type": "code",
      "execution_count": null,
      "id": "ac9db232",
      "metadata": {
        "id": "ac9db232",
        "outputId": "dfba2b89-f098-4973-b0c7-a2dad43cf386"
      },
      "outputs": [
        {
          "data": {
            "text/html": [
              "<div>\n",
              "<style scoped>\n",
              "    .dataframe tbody tr th:only-of-type {\n",
              "        vertical-align: middle;\n",
              "    }\n",
              "\n",
              "    .dataframe tbody tr th {\n",
              "        vertical-align: top;\n",
              "    }\n",
              "\n",
              "    .dataframe thead th {\n",
              "        text-align: right;\n",
              "    }\n",
              "</style>\n",
              "<table border=\"1\" class=\"dataframe\">\n",
              "  <thead>\n",
              "    <tr style=\"text-align: right;\">\n",
              "      <th></th>\n",
              "      <th>movie_id</th>\n",
              "      <th>title</th>\n",
              "      <th>overview</th>\n",
              "      <th>genres</th>\n",
              "      <th>keywords</th>\n",
              "      <th>cast</th>\n",
              "      <th>crew</th>\n",
              "    </tr>\n",
              "  </thead>\n",
              "  <tbody>\n",
              "    <tr>\n",
              "      <th>0</th>\n",
              "      <td>19995</td>\n",
              "      <td>Avatar</td>\n",
              "      <td>In the 22nd century, a paraplegic Marine is di...</td>\n",
              "      <td>[{\"id\": 28, \"name\": \"Action\"}, {\"id\": 12, \"nam...</td>\n",
              "      <td>[{\"id\": 1463, \"name\": \"culture clash\"}, {\"id\":...</td>\n",
              "      <td>[{\"cast_id\": 242, \"character\": \"Jake Sully\", \"...</td>\n",
              "      <td>[{\"credit_id\": \"52fe48009251416c750aca23\", \"de...</td>\n",
              "    </tr>\n",
              "    <tr>\n",
              "      <th>1</th>\n",
              "      <td>285</td>\n",
              "      <td>Pirates of the Caribbean: At World's End</td>\n",
              "      <td>Captain Barbossa, long believed to be dead, ha...</td>\n",
              "      <td>[{\"id\": 12, \"name\": \"Adventure\"}, {\"id\": 14, \"...</td>\n",
              "      <td>[{\"id\": 270, \"name\": \"ocean\"}, {\"id\": 726, \"na...</td>\n",
              "      <td>[{\"cast_id\": 4, \"character\": \"Captain Jack Spa...</td>\n",
              "      <td>[{\"credit_id\": \"52fe4232c3a36847f800b579\", \"de...</td>\n",
              "    </tr>\n",
              "    <tr>\n",
              "      <th>2</th>\n",
              "      <td>206647</td>\n",
              "      <td>Spectre</td>\n",
              "      <td>A cryptic message from Bond’s past sends him o...</td>\n",
              "      <td>[{\"id\": 28, \"name\": \"Action\"}, {\"id\": 12, \"nam...</td>\n",
              "      <td>[{\"id\": 470, \"name\": \"spy\"}, {\"id\": 818, \"name...</td>\n",
              "      <td>[{\"cast_id\": 1, \"character\": \"James Bond\", \"cr...</td>\n",
              "      <td>[{\"credit_id\": \"54805967c3a36829b5002c41\", \"de...</td>\n",
              "    </tr>\n",
              "    <tr>\n",
              "      <th>3</th>\n",
              "      <td>49026</td>\n",
              "      <td>The Dark Knight Rises</td>\n",
              "      <td>Following the death of District Attorney Harve...</td>\n",
              "      <td>[{\"id\": 28, \"name\": \"Action\"}, {\"id\": 80, \"nam...</td>\n",
              "      <td>[{\"id\": 849, \"name\": \"dc comics\"}, {\"id\": 853,...</td>\n",
              "      <td>[{\"cast_id\": 2, \"character\": \"Bruce Wayne / Ba...</td>\n",
              "      <td>[{\"credit_id\": \"52fe4781c3a36847f81398c3\", \"de...</td>\n",
              "    </tr>\n",
              "    <tr>\n",
              "      <th>4</th>\n",
              "      <td>49529</td>\n",
              "      <td>John Carter</td>\n",
              "      <td>John Carter is a war-weary, former military ca...</td>\n",
              "      <td>[{\"id\": 28, \"name\": \"Action\"}, {\"id\": 12, \"nam...</td>\n",
              "      <td>[{\"id\": 818, \"name\": \"based on novel\"}, {\"id\":...</td>\n",
              "      <td>[{\"cast_id\": 5, \"character\": \"John Carter\", \"c...</td>\n",
              "      <td>[{\"credit_id\": \"52fe479ac3a36847f813eaa3\", \"de...</td>\n",
              "    </tr>\n",
              "  </tbody>\n",
              "</table>\n",
              "</div>"
            ],
            "text/plain": [
              "   movie_id                                     title  \\\n",
              "0     19995                                    Avatar   \n",
              "1       285  Pirates of the Caribbean: At World's End   \n",
              "2    206647                                   Spectre   \n",
              "3     49026                     The Dark Knight Rises   \n",
              "4     49529                               John Carter   \n",
              "\n",
              "                                            overview  \\\n",
              "0  In the 22nd century, a paraplegic Marine is di...   \n",
              "1  Captain Barbossa, long believed to be dead, ha...   \n",
              "2  A cryptic message from Bond’s past sends him o...   \n",
              "3  Following the death of District Attorney Harve...   \n",
              "4  John Carter is a war-weary, former military ca...   \n",
              "\n",
              "                                              genres  \\\n",
              "0  [{\"id\": 28, \"name\": \"Action\"}, {\"id\": 12, \"nam...   \n",
              "1  [{\"id\": 12, \"name\": \"Adventure\"}, {\"id\": 14, \"...   \n",
              "2  [{\"id\": 28, \"name\": \"Action\"}, {\"id\": 12, \"nam...   \n",
              "3  [{\"id\": 28, \"name\": \"Action\"}, {\"id\": 80, \"nam...   \n",
              "4  [{\"id\": 28, \"name\": \"Action\"}, {\"id\": 12, \"nam...   \n",
              "\n",
              "                                            keywords  \\\n",
              "0  [{\"id\": 1463, \"name\": \"culture clash\"}, {\"id\":...   \n",
              "1  [{\"id\": 270, \"name\": \"ocean\"}, {\"id\": 726, \"na...   \n",
              "2  [{\"id\": 470, \"name\": \"spy\"}, {\"id\": 818, \"name...   \n",
              "3  [{\"id\": 849, \"name\": \"dc comics\"}, {\"id\": 853,...   \n",
              "4  [{\"id\": 818, \"name\": \"based on novel\"}, {\"id\":...   \n",
              "\n",
              "                                                cast  \\\n",
              "0  [{\"cast_id\": 242, \"character\": \"Jake Sully\", \"...   \n",
              "1  [{\"cast_id\": 4, \"character\": \"Captain Jack Spa...   \n",
              "2  [{\"cast_id\": 1, \"character\": \"James Bond\", \"cr...   \n",
              "3  [{\"cast_id\": 2, \"character\": \"Bruce Wayne / Ba...   \n",
              "4  [{\"cast_id\": 5, \"character\": \"John Carter\", \"c...   \n",
              "\n",
              "                                                crew  \n",
              "0  [{\"credit_id\": \"52fe48009251416c750aca23\", \"de...  \n",
              "1  [{\"credit_id\": \"52fe4232c3a36847f800b579\", \"de...  \n",
              "2  [{\"credit_id\": \"54805967c3a36829b5002c41\", \"de...  \n",
              "3  [{\"credit_id\": \"52fe4781c3a36847f81398c3\", \"de...  \n",
              "4  [{\"credit_id\": \"52fe479ac3a36847f813eaa3\", \"de...  "
            ]
          },
          "execution_count": 9,
          "metadata": {},
          "output_type": "execute_result"
        }
      ],
      "source": [
        "movies.head()"
      ]
    },
    {
      "cell_type": "code",
      "execution_count": null,
      "id": "86310002",
      "metadata": {
        "scrolled": true,
        "id": "86310002",
        "outputId": "f956be1e-8e97-434f-f564-6336f615320f"
      },
      "outputs": [
        {
          "data": {
            "text/plain": [
              "movie_id    0\n",
              "title       0\n",
              "overview    3\n",
              "genres      0\n",
              "keywords    0\n",
              "cast        0\n",
              "crew        0\n",
              "dtype: int64"
            ]
          },
          "execution_count": 10,
          "metadata": {},
          "output_type": "execute_result"
        }
      ],
      "source": [
        "movies.isnull().sum()"
      ]
    },
    {
      "cell_type": "code",
      "execution_count": null,
      "id": "abf0b075",
      "metadata": {
        "id": "abf0b075"
      },
      "outputs": [],
      "source": [
        "movies.dropna(inplace=True)"
      ]
    },
    {
      "cell_type": "code",
      "execution_count": null,
      "id": "1e12c12c",
      "metadata": {
        "id": "1e12c12c",
        "outputId": "0eae19eb-0374-46b0-8446-8249c3a665ca"
      },
      "outputs": [
        {
          "data": {
            "text/plain": [
              "0"
            ]
          },
          "execution_count": 12,
          "metadata": {},
          "output_type": "execute_result"
        }
      ],
      "source": [
        "movies.duplicated().sum()"
      ]
    },
    {
      "cell_type": "code",
      "execution_count": null,
      "id": "07c7dfd1",
      "metadata": {
        "id": "07c7dfd1",
        "outputId": "e394b2c6-0604-4823-9680-1b0ff8f0a724"
      },
      "outputs": [
        {
          "data": {
            "text/plain": [
              "'[{\"id\": 28, \"name\": \"Action\"}, {\"id\": 12, \"name\": \"Adventure\"}, {\"id\": 14, \"name\": \"Fantasy\"}, {\"id\": 878, \"name\": \"Science Fiction\"}]'"
            ]
          },
          "execution_count": 13,
          "metadata": {},
          "output_type": "execute_result"
        }
      ],
      "source": [
        "movies.iloc[0].genres"
      ]
    },
    {
      "cell_type": "code",
      "execution_count": null,
      "id": "196427a5",
      "metadata": {
        "id": "196427a5"
      },
      "outputs": [],
      "source": [
        "def convert(obj):\n",
        "    L = []\n",
        "    for i in eval(obj):\n",
        "        L.append(i['name'])\n",
        "    return L"
      ]
    },
    {
      "cell_type": "code",
      "execution_count": null,
      "id": "b4c6f901",
      "metadata": {
        "id": "b4c6f901"
      },
      "outputs": [],
      "source": [
        "movies['genres'] = movies['genres'].apply(convert)"
      ]
    },
    {
      "cell_type": "code",
      "execution_count": null,
      "id": "069c611b",
      "metadata": {
        "id": "069c611b"
      },
      "outputs": [],
      "source": [
        "movies['keywords'] = movies['keywords'].apply(convert)"
      ]
    },
    {
      "cell_type": "code",
      "execution_count": null,
      "id": "8ad403e5",
      "metadata": {
        "id": "8ad403e5"
      },
      "outputs": [],
      "source": [
        "def convert3(obj):\n",
        "    L = []\n",
        "    count = 0\n",
        "    for i in eval(obj):\n",
        "        if count != 3:\n",
        "            L.append(i['name'])\n",
        "            count += 1\n",
        "        else:\n",
        "            break\n",
        "    return L"
      ]
    },
    {
      "cell_type": "code",
      "execution_count": null,
      "id": "ba1b8466",
      "metadata": {
        "id": "ba1b8466"
      },
      "outputs": [],
      "source": [
        "movies['cast'] = movies['cast'].apply(convert3)"
      ]
    },
    {
      "cell_type": "code",
      "execution_count": null,
      "id": "fbb7298c",
      "metadata": {
        "id": "fbb7298c"
      },
      "outputs": [],
      "source": [
        "def fetch_director(obj):\n",
        "    L = []\n",
        "    for i in eval(obj):\n",
        "        if i['job'] == 'Director':\n",
        "            L.append(i['name'])\n",
        "            break\n",
        "    return L"
      ]
    },
    {
      "cell_type": "code",
      "execution_count": null,
      "id": "b7ffae5a",
      "metadata": {
        "id": "b7ffae5a"
      },
      "outputs": [],
      "source": [
        "movies['crew'] = movies['crew'].apply(fetch_director)"
      ]
    },
    {
      "cell_type": "code",
      "execution_count": null,
      "id": "930b5d02",
      "metadata": {
        "id": "930b5d02"
      },
      "outputs": [],
      "source": [
        "movies['overview'] = movies['overview'].apply(lambda x:x.split())"
      ]
    },
    {
      "cell_type": "code",
      "execution_count": null,
      "id": "2b8cc7cf",
      "metadata": {
        "id": "2b8cc7cf"
      },
      "outputs": [],
      "source": [
        "movies['genres'] = movies['genres'].apply(lambda x:[i.replace(\" \",\"\") for i in x])\n",
        "movies['keywords'] = movies['keywords'].apply(lambda x:[i.replace(\" \",\"\") for i in x])\n",
        "movies['cast'] = movies['cast'].apply(lambda x:[i.replace(\" \",\"\") for i in x])\n",
        "movies['crew'] = movies['crew'].apply(lambda x:[i.replace(\" \",\"\") for i in x])"
      ]
    },
    {
      "cell_type": "code",
      "execution_count": null,
      "id": "5b06506a",
      "metadata": {
        "id": "5b06506a"
      },
      "outputs": [],
      "source": [
        "movies['tags'] = movies['overview'] +  movies['genres'] +  movies['keywords'] +  movies['cast'] + movies['crew']"
      ]
    },
    {
      "cell_type": "code",
      "execution_count": null,
      "id": "41cd0d3f",
      "metadata": {
        "id": "41cd0d3f"
      },
      "outputs": [],
      "source": [
        "new_df = movies[['movie_id', 'title', 'tags']]"
      ]
    },
    {
      "cell_type": "code",
      "execution_count": null,
      "id": "51ea38d5",
      "metadata": {
        "id": "51ea38d5"
      },
      "outputs": [],
      "source": [
        "new_df['tags'] = new_df['tags'].apply(lambda x: ' '.join(x))"
      ]
    },
    {
      "cell_type": "code",
      "execution_count": null,
      "id": "3da6f0a9",
      "metadata": {
        "id": "3da6f0a9"
      },
      "outputs": [],
      "source": [
        "new_df['tags'] = new_df['tags'].apply(lambda x: x.lower())"
      ]
    },
    {
      "cell_type": "code",
      "execution_count": null,
      "id": "8fbcb3e8",
      "metadata": {
        "id": "8fbcb3e8",
        "outputId": "959509d6-4ff8-4dca-ff0f-79bd42175a06"
      },
      "outputs": [
        {
          "data": {
            "text/html": [
              "<div>\n",
              "<style scoped>\n",
              "    .dataframe tbody tr th:only-of-type {\n",
              "        vertical-align: middle;\n",
              "    }\n",
              "\n",
              "    .dataframe tbody tr th {\n",
              "        vertical-align: top;\n",
              "    }\n",
              "\n",
              "    .dataframe thead th {\n",
              "        text-align: right;\n",
              "    }\n",
              "</style>\n",
              "<table border=\"1\" class=\"dataframe\">\n",
              "  <thead>\n",
              "    <tr style=\"text-align: right;\">\n",
              "      <th></th>\n",
              "      <th>movie_id</th>\n",
              "      <th>title</th>\n",
              "      <th>tags</th>\n",
              "    </tr>\n",
              "  </thead>\n",
              "  <tbody>\n",
              "    <tr>\n",
              "      <th>0</th>\n",
              "      <td>19995</td>\n",
              "      <td>Avatar</td>\n",
              "      <td>in the 22nd century, a paraplegic marine is di...</td>\n",
              "    </tr>\n",
              "    <tr>\n",
              "      <th>1</th>\n",
              "      <td>285</td>\n",
              "      <td>Pirates of the Caribbean: At World's End</td>\n",
              "      <td>captain barbossa, long believed to be dead, ha...</td>\n",
              "    </tr>\n",
              "    <tr>\n",
              "      <th>2</th>\n",
              "      <td>206647</td>\n",
              "      <td>Spectre</td>\n",
              "      <td>a cryptic message from bond’s past sends him o...</td>\n",
              "    </tr>\n",
              "    <tr>\n",
              "      <th>3</th>\n",
              "      <td>49026</td>\n",
              "      <td>The Dark Knight Rises</td>\n",
              "      <td>following the death of district attorney harve...</td>\n",
              "    </tr>\n",
              "    <tr>\n",
              "      <th>4</th>\n",
              "      <td>49529</td>\n",
              "      <td>John Carter</td>\n",
              "      <td>john carter is a war-weary, former military ca...</td>\n",
              "    </tr>\n",
              "  </tbody>\n",
              "</table>\n",
              "</div>"
            ],
            "text/plain": [
              "   movie_id                                     title  \\\n",
              "0     19995                                    Avatar   \n",
              "1       285  Pirates of the Caribbean: At World's End   \n",
              "2    206647                                   Spectre   \n",
              "3     49026                     The Dark Knight Rises   \n",
              "4     49529                               John Carter   \n",
              "\n",
              "                                                tags  \n",
              "0  in the 22nd century, a paraplegic marine is di...  \n",
              "1  captain barbossa, long believed to be dead, ha...  \n",
              "2  a cryptic message from bond’s past sends him o...  \n",
              "3  following the death of district attorney harve...  \n",
              "4  john carter is a war-weary, former military ca...  "
            ]
          },
          "execution_count": 27,
          "metadata": {},
          "output_type": "execute_result"
        }
      ],
      "source": [
        "new_df.head()"
      ]
    },
    {
      "cell_type": "code",
      "execution_count": null,
      "id": "b88297f0",
      "metadata": {
        "id": "b88297f0"
      },
      "outputs": [],
      "source": [
        "import nltk\n",
        "from nltk.stem.porter import PorterStemmer\n",
        "ps = PorterStemmer()"
      ]
    },
    {
      "cell_type": "code",
      "execution_count": null,
      "id": "c8eb076b",
      "metadata": {
        "id": "c8eb076b"
      },
      "outputs": [],
      "source": [
        "def stem(text):\n",
        "    y = []\n",
        "    for i in text.split():\n",
        "        y.append(ps.stem(i))\n",
        "    return \" \".join(y)"
      ]
    },
    {
      "cell_type": "code",
      "execution_count": null,
      "id": "134bd26b",
      "metadata": {
        "id": "134bd26b"
      },
      "outputs": [],
      "source": [
        "new_df['taqs'] = new_df['tags'].apply(stem)"
      ]
    },
    {
      "cell_type": "code",
      "execution_count": null,
      "id": "0a368061",
      "metadata": {
        "id": "0a368061"
      },
      "outputs": [],
      "source": [
        "from sklearn.feature_extraction.text import CountVectorizer\n",
        "\n",
        "cv = CountVectorizer(max_features = 5000, stop_words ='english')"
      ]
    },
    {
      "cell_type": "code",
      "execution_count": null,
      "id": "ab5f56c6",
      "metadata": {
        "id": "ab5f56c6"
      },
      "outputs": [],
      "source": [
        "vectors = cv.fit_transform(new_df['tags']).toarray()"
      ]
    },
    {
      "cell_type": "code",
      "execution_count": null,
      "id": "7e695059",
      "metadata": {
        "id": "7e695059"
      },
      "outputs": [],
      "source": [
        "from sklearn.metrics.pairwise import cosine_similarity\n"
      ]
    },
    {
      "cell_type": "code",
      "execution_count": null,
      "id": "557db227",
      "metadata": {
        "id": "557db227"
      },
      "outputs": [],
      "source": [
        "similarity = cosine_similarity(vectors)"
      ]
    },
    {
      "cell_type": "code",
      "execution_count": null,
      "id": "58bd4b98",
      "metadata": {
        "id": "58bd4b98",
        "outputId": "2e979046-8ddb-4915-ca6e-fadfa9d52317"
      },
      "outputs": [
        {
          "data": {
            "text/plain": [
              "(4806, 4806)"
            ]
          },
          "execution_count": 35,
          "metadata": {},
          "output_type": "execute_result"
        }
      ],
      "source": [
        "similarity.shape"
      ]
    },
    {
      "cell_type": "code",
      "execution_count": null,
      "id": "c2e11397",
      "metadata": {
        "id": "c2e11397"
      },
      "outputs": [],
      "source": [
        "def recommend(movie):\n",
        "    movie_index = new_df[new_df['title'] == movie].index[0]\n",
        "    distances = similarity[movie_index]\n",
        "    movie_list = sorted(list(enumerate(distances)), reverse = True, key= lambda x:x[1])[1:6]\n",
        "\n",
        "    for i in movie_list:\n",
        "        print(new_df.iloc[i[0]].title)"
      ]
    },
    {
      "cell_type": "code",
      "execution_count": null,
      "id": "195d7d73",
      "metadata": {
        "id": "195d7d73",
        "outputId": "96cb1457-1a49-4473-d4de-7eada86293c1"
      },
      "outputs": [
        {
          "name": "stdout",
          "output_type": "stream",
          "text": [
            "Code 46\n",
            "Veer-Zaara\n",
            "Two Girls and a Guy\n",
            "Love Letters\n",
            "The Time Traveler's Wife\n"
          ]
        }
      ],
      "source": [
        "recommend('Her')"
      ]
    },
    {
      "cell_type": "code",
      "execution_count": null,
      "id": "73a4af6a",
      "metadata": {
        "id": "73a4af6a"
      },
      "outputs": [],
      "source": [
        "import pickle"
      ]
    },
    {
      "cell_type": "code",
      "execution_count": null,
      "id": "5552be82",
      "metadata": {
        "id": "5552be82"
      },
      "outputs": [],
      "source": [
        "# pickle.dump(new_df.to_dict(), open('movies_dict.pkl','wb'))"
      ]
    },
    {
      "cell_type": "code",
      "execution_count": null,
      "id": "ba4b49ed",
      "metadata": {
        "id": "ba4b49ed"
      },
      "outputs": [],
      "source": [
        "pickle.dump(similarity, open('similarity.pkl', 'wb'))"
      ]
    },
    {
      "cell_type": "code",
      "execution_count": null,
      "id": "3887788c",
      "metadata": {
        "id": "3887788c"
      },
      "outputs": [],
      "source": []
    }
  ],
  "metadata": {
    "kernelspec": {
      "display_name": "Python 3 (ipykernel)",
      "language": "python",
      "name": "python3"
    },
    "language_info": {
      "codemirror_mode": {
        "name": "ipython",
        "version": 3
      },
      "file_extension": ".py",
      "mimetype": "text/x-python",
      "name": "python",
      "nbconvert_exporter": "python",
      "pygments_lexer": "ipython3",
      "version": "3.9.13"
    },
    "colab": {
      "provenance": [],
      "include_colab_link": true
    }
  },
  "nbformat": 4,
  "nbformat_minor": 5
}